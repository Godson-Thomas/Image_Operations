{
 "cells": [
  {
   "cell_type": "code",
   "execution_count": 190,
   "metadata": {},
   "outputs": [
    {
     "name": "stdout",
     "output_type": "stream",
     "text": [
      "(1200, 1600, 3)\n",
      "\n",
      "\n",
      "[[[255 255 255]\n",
      "  [255 255 255]\n",
      "  [255 255 255]\n",
      "  ...\n",
      "  [246 236 248]\n",
      "  [240 230 242]\n",
      "  [235 225 237]]\n",
      "\n",
      " [[255 255 255]\n",
      "  [255 255 255]\n",
      "  [255 255 255]\n",
      "  ...\n",
      "  [248 238 250]\n",
      "  [242 232 244]\n",
      "  [235 225 237]]\n",
      "\n",
      " [[255 255 255]\n",
      "  [255 255 255]\n",
      "  [255 255 255]\n",
      "  ...\n",
      "  [251 241 253]\n",
      "  [248 238 250]\n",
      "  [242 232 244]]\n",
      "\n",
      " ...\n",
      "\n",
      " [[251 245 250]\n",
      "  [251 245 250]\n",
      "  [251 245 250]\n",
      "  ...\n",
      "  [231 224 231]\n",
      "  [235 228 235]\n",
      "  [238 231 238]]\n",
      "\n",
      " [[250 246 251]\n",
      "  [250 246 251]\n",
      "  [250 246 251]\n",
      "  ...\n",
      "  [235 228 235]\n",
      "  [233 226 233]\n",
      "  [231 224 231]]\n",
      "\n",
      " [[253 249 254]\n",
      "  [253 249 254]\n",
      "  [253 249 254]\n",
      "  ...\n",
      "  [232 225 232]\n",
      "  [227 220 227]\n",
      "  [221 214 221]]]\n"
     ]
    }
   ],
   "source": [
    "\n",
    "import cv2\n",
    "import numpy as np\n",
    " \n",
    "img = cv2.imread(\"E:\\\\GITHUB\\\\Image_Operations\\\\Drawing_on_Images\\\\Cat.jpg\", cv2.IMREAD_COLOR)\n",
    "print(img.shape)\n",
    "print('\\n')\n",
    "print(img)"
   ]
  },
  {
   "cell_type": "code",
   "execution_count": 191,
   "metadata": {},
   "outputs": [
    {
     "data": {
      "text/plain": [
       "(400, 700, 3)"
      ]
     },
     "execution_count": 191,
     "metadata": {},
     "output_type": "execute_result"
    }
   ],
   "source": [
    "img = cv2.resize(img, (700,400))\n",
    "img.shape"
   ]
  },
  {
   "cell_type": "code",
   "execution_count": 192,
   "metadata": {},
   "outputs": [],
   "source": [
    "blue = (255, 0, 0)\n",
    "red = (0, 0, 255)\n",
    "green = (0, 255, 0)\n",
    "violet = (180, 0, 180)\n"
   ]
  },
  {
   "cell_type": "code",
   "execution_count": 193,
   "metadata": {},
   "outputs": [
    {
     "data": {
      "text/plain": [
       "array([[[255, 255, 255],\n",
       "        [255, 255, 255],\n",
       "        [255, 255, 255],\n",
       "        ...,\n",
       "        [240, 230, 242],\n",
       "        [248, 238, 250],\n",
       "        [239, 229, 241]],\n",
       "\n",
       "       [[255, 255, 255],\n",
       "        [255, 255, 255],\n",
       "        [255, 255, 255],\n",
       "        ...,\n",
       "        [254, 244, 255],\n",
       "        [241, 231, 243],\n",
       "        [251, 242, 252]],\n",
       "\n",
       "       [[255, 255, 255],\n",
       "        [255, 255, 255],\n",
       "        [255, 255, 255],\n",
       "        ...,\n",
       "        [232, 222, 234],\n",
       "        [251, 242, 253],\n",
       "        [249, 239, 251]],\n",
       "\n",
       "       ...,\n",
       "\n",
       "       [[251, 245, 250],\n",
       "        [251, 245, 250],\n",
       "        [251, 245, 250],\n",
       "        ...,\n",
       "        [226, 219, 226],\n",
       "        [240, 233, 240],\n",
       "        [237, 230, 237]],\n",
       "\n",
       "       [[254, 248, 253],\n",
       "        [254, 248, 253],\n",
       "        [254, 248, 253],\n",
       "        ...,\n",
       "        [230, 223, 230],\n",
       "        [219, 212, 219],\n",
       "        [225, 218, 225]],\n",
       "\n",
       "       [[250, 246, 251],\n",
       "        [250, 246, 251],\n",
       "        [250, 246, 251],\n",
       "        ...,\n",
       "        [228, 221, 228],\n",
       "        [234, 227, 234],\n",
       "        [232, 225, 232]]], dtype=uint8)"
      ]
     },
     "execution_count": 193,
     "metadata": {},
     "output_type": "execute_result"
    }
   ],
   "source": [
    "cv2.line(img, (440, 170), (588, 192), blue, thickness=5)\n",
    "cv2.circle(img, (476, 268), 10, red, -1)\n",
    "cv2.rectangle(img, (440, 70), (588, 150), violet, -1)"
   ]
  },
  {
   "cell_type": "code",
   "execution_count": 194,
   "metadata": {},
   "outputs": [],
   "source": [
    "cv2.imshow(\"Output Image\",img)\n",
    "cv2.waitKey(0)\n",
    "cv2.destroyAllWindows()"
   ]
  },
  {
   "cell_type": "code",
   "execution_count": null,
   "metadata": {},
   "outputs": [],
   "source": []
  }
 ],
 "metadata": {
  "kernelspec": {
   "display_name": "DARKTRACE",
   "language": "python",
   "name": "darktrace"
  },
  "language_info": {
   "codemirror_mode": {
    "name": "ipython",
    "version": 3
   },
   "file_extension": ".py",
   "mimetype": "text/x-python",
   "name": "python",
   "nbconvert_exporter": "python",
   "pygments_lexer": "ipython3",
   "version": "3.7.3"
  }
 },
 "nbformat": 4,
 "nbformat_minor": 2
}
