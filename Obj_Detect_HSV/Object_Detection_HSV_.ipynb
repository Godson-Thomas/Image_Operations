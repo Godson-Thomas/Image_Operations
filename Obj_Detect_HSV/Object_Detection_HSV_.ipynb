{
 "cells": [
  {
   "cell_type": "code",
   "execution_count": 30,
   "metadata": {},
   "outputs": [],
   "source": [
    "import cv2\n",
    "import time\n",
    "import numpy as np\n"
   ]
  },
  {
   "cell_type": "code",
   "execution_count": 31,
   "metadata": {},
   "outputs": [],
   "source": [
    "def rescale_frame(frame, percent=75):\n",
    "    width = int(frame.shape[1] * percent/ 100)\n",
    "    height = int(frame.shape[0] * percent/ 100)\n",
    "    dim = (width, height)\n",
    "    return cv2.resize(frame, dim, interpolation =cv2.INTER_AREA)"
   ]
  },
  {
   "cell_type": "code",
   "execution_count": 35,
   "metadata": {},
   "outputs": [],
   "source": [
    "def nothing(x):\n",
    "    pass\n",
    "\n",
    "video=cv2.VideoCapture(\"http://192.168.43.1:8080/video\")\n",
    "cv2.namedWindow(\"Trackbar\")\n",
    "\n",
    "\n",
    "cv2.createTrackbar(\"L - H\", \"Trackbar\", 0, 179, nothing)\n",
    "cv2.createTrackbar(\"L - S\", \"Trackbar\", 0, 255, nothing)\n",
    "cv2.createTrackbar(\"L - V\", \"Trackbar\", 0, 255, nothing)\n",
    "cv2.createTrackbar(\"U - H\", \"Trackbar\", 179, 179, nothing)\n",
    "cv2.createTrackbar(\"U - S\", \"Trackbar\", 255, 255, nothing)\n",
    "cv2.createTrackbar(\"U - V\", \"Trackbar\", 255, 255, nothing)\n",
    "\n",
    "\n",
    "\n",
    "a=1\n",
    "\n",
    "while True:\n",
    "    \n",
    "    check,img = video.read(0)\n",
    "    img = rescale_frame(img, percent=60)\n",
    "    hsv = cv2.cvtColor(img,cv2.COLOR_BGR2HSV)\n",
    "    \n",
    "    l_h = cv2.getTrackbarPos(\"L - H\", \"Trackbar\")\n",
    "    l_s = cv2.getTrackbarPos(\"L - S\", \"Trackbar\")\n",
    "    l_v = cv2.getTrackbarPos(\"L - V\", \"Trackbar\")\n",
    "    u_h = cv2.getTrackbarPos(\"U - H\", \"Trackbar\")\n",
    "    u_s = cv2.getTrackbarPos(\"U - S\", \"Trackbar\")\n",
    "    u_v = cv2.getTrackbarPos(\"U - V\", \"Trackbar\")\n",
    "    \n",
    "    Lower_Blue = np.array([l_h, l_s, l_v])   \n",
    "    Upper_Blue = np.array([u_h, u_s, u_v])\n",
    "    mask = cv2.inRange(hsv, Lower_Blue, Upper_Blue) #creating the blue filter from taking values from measurements\n",
    "    Output = cv2.bitwise_and(img, img, mask=mask)\n",
    "    \n",
    "    cv2.imshow(\"Frame\" ,img)\n",
    "    cv2.imshow(\"Mask\" ,mask)\n",
    "    cv2.imshow(\"Output\", Output)\n",
    "    \n",
    "\n",
    "    k=cv2.waitKey(1)\n",
    "    if k==27:     \n",
    "        break\n",
    "\n",
    "video.release()\n",
    "cv2.destroyAllWindows()"
   ]
  },
  {
   "cell_type": "code",
   "execution_count": null,
   "metadata": {},
   "outputs": [],
   "source": []
  },
  {
   "cell_type": "code",
   "execution_count": null,
   "metadata": {},
   "outputs": [],
   "source": []
  }
 ],
 "metadata": {
  "kernelspec": {
   "display_name": "DARKTRACE",
   "language": "python",
   "name": "darktrace"
  },
  "language_info": {
   "codemirror_mode": {
    "name": "ipython",
    "version": 3
   },
   "file_extension": ".py",
   "mimetype": "text/x-python",
   "name": "python",
   "nbconvert_exporter": "python",
   "pygments_lexer": "ipython3",
   "version": "3.7.3"
  }
 },
 "nbformat": 4,
 "nbformat_minor": 2
}
