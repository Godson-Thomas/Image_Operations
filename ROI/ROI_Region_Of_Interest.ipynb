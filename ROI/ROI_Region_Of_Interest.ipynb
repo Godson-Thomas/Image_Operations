{
 "cells": [
  {
   "cell_type": "code",
   "execution_count": 69,
   "metadata": {},
   "outputs": [
    {
     "name": "stdout",
     "output_type": "stream",
     "text": [
      "(1000, 1600, 3)\n",
      "\n",
      "\n",
      "[[[28 53 25]\n",
      "  [21 46 18]\n",
      "  [18 45 19]\n",
      "  ...\n",
      "  [30 60 41]\n",
      "  [32 62 43]\n",
      "  [33 63 44]]\n",
      "\n",
      " [[32 57 29]\n",
      "  [25 53 24]\n",
      "  [23 50 24]\n",
      "  ...\n",
      "  [29 59 40]\n",
      "  [31 61 42]\n",
      "  [32 62 43]]\n",
      "\n",
      " [[30 57 31]\n",
      "  [28 55 29]\n",
      "  [26 52 28]\n",
      "  ...\n",
      "  [27 59 40]\n",
      "  [28 60 41]\n",
      "  [29 61 42]]\n",
      "\n",
      " ...\n",
      "\n",
      " [[ 3  3  3]\n",
      "  [ 3  3  3]\n",
      "  [ 2  2  2]\n",
      "  ...\n",
      "  [18 20 14]\n",
      "  [20 20 14]\n",
      "  [20 20 14]]\n",
      "\n",
      " [[ 5  5  5]\n",
      "  [ 4  4  4]\n",
      "  [ 3  3  3]\n",
      "  ...\n",
      "  [20 22 16]\n",
      "  [22 22 16]\n",
      "  [22 22 16]]\n",
      "\n",
      " [[ 6  6  6]\n",
      "  [ 5  5  5]\n",
      "  [ 4  4  4]\n",
      "  ...\n",
      "  [21 23 17]\n",
      "  [23 23 17]\n",
      "  [24 24 18]]]\n"
     ]
    }
   ],
   "source": [
    "import cv2\n",
    "import numpy as np\n",
    " \n",
    "img = cv2.imread(\"E:\\\\GITHUB\\\\Image_Operations\\\\ROI\\\\Flowers.jpg\", cv2.IMREAD_COLOR)\n",
    "print(img.shape)\n",
    "print('\\n')\n",
    "print(img)\n"
   ]
  },
  {
   "cell_type": "code",
   "execution_count": 70,
   "metadata": {},
   "outputs": [
    {
     "data": {
      "text/plain": [
       "(400, 700, 3)"
      ]
     },
     "execution_count": 70,
     "metadata": {},
     "output_type": "execute_result"
    }
   ],
   "source": [
    "img = cv2.resize(img, (700,400))\n",
    "img.shape"
   ]
  },
  {
   "cell_type": "code",
   "execution_count": 71,
   "metadata": {},
   "outputs": [],
   "source": [
    "ROI = img[245: 400, 145:328]\n"
   ]
  },
  {
   "cell_type": "code",
   "execution_count": null,
   "metadata": {},
   "outputs": [],
   "source": [
    "cv2.imshow(\"Resized Image\",img)\n",
    "cv2.imshow(\"ROI\",ROI)\n",
    "cv2.waitKey()\n",
    "cv2.destroyAllWindows()"
   ]
  },
  {
   "cell_type": "code",
   "execution_count": null,
   "metadata": {},
   "outputs": [],
   "source": [
    "\n"
   ]
  }
 ],
 "metadata": {
  "kernelspec": {
   "display_name": "DARKTRACE",
   "language": "python",
   "name": "darktrace"
  },
  "language_info": {
   "codemirror_mode": {
    "name": "ipython",
    "version": 3
   },
   "file_extension": ".py",
   "mimetype": "text/x-python",
   "name": "python",
   "nbconvert_exporter": "python",
   "pygments_lexer": "ipython3",
   "version": "3.7.3"
  }
 },
 "nbformat": 4,
 "nbformat_minor": 2
}
