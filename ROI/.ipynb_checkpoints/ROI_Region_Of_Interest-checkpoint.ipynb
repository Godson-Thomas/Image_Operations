{
 "cells": [
  {
   "cell_type": "code",
   "execution_count": 1,
   "metadata": {},
   "outputs": [],
   "source": [
    "import cv2\n",
    "import numpy as np\n",
    " \n",
    "img = cv2.imread(\"E:\\\\GITHUB\\\\Image_Operations\\\\Drawing_on_Images\\\\Cat.jpg\", cv2.IMREAD_COLOR)\n",
    "print(img.shape)\n",
    "print('\\n')\n",
    "print(img)\n"
   ]
  },
  {
   "cell_type": "code",
   "execution_count": 2,
   "metadata": {},
   "outputs": [],
   "source": [
    "img = cv2.resize(img, (700,400))\n",
    "img.shape"
   ]
  },
  {
   "cell_type": "code",
   "execution_count": 49,
   "metadata": {},
   "outputs": [],
   "source": [
    "scale=0.2\n",
    "\n",
    "width=int(img.shape[1]*scale)   # 1    WIDTH IN THIS CASE \n",
    "height=int(img.shape[0]*scale)  # 0    HEIGHT IN THIS CASE\n",
    "                                                                   # ID \n",
    "dim=(width,height)\n"
   ]
  },
  {
   "cell_type": "code",
   "execution_count": 50,
   "metadata": {},
   "outputs": [
    {
     "name": "stdout",
     "output_type": "stream",
     "text": [
      "379\n",
      "242\n"
     ]
    }
   ],
   "source": [
    "\n",
    "print(height)\n",
    "print(width)\n"
   ]
  },
  {
   "cell_type": "code",
   "execution_count": 118,
   "metadata": {},
   "outputs": [],
   "source": [
    "resized_img=cv2.resize(img,dim,interpolation=cv2.INTER_AREA)     #STORING AND DISPLAYING THE RESIZED IMAGE\n",
    "\n",
    "\n",
    "\n",
    "ROI=resized_img[155:290,65:175]                     # ROI\n",
    "cv2.imshow(\"RESIZED ONE ID\",resized_img)\n",
    "cv2.imshow(\"REGION\",ROI)\n",
    "\n",
    "\n",
    "\n",
    "cv2.waitKey()\n",
    "cv2.destroyAllWindows()"
   ]
  },
  {
   "cell_type": "code",
   "execution_count": 78,
   "metadata": {},
   "outputs": [
    {
     "data": {
      "text/plain": [
       "(125, 98, 3)"
      ]
     },
     "execution_count": 78,
     "metadata": {},
     "output_type": "execute_result"
    }
   ],
   "source": [
    "ROI.shape"
   ]
  },
  {
   "cell_type": "code",
   "execution_count": null,
   "metadata": {},
   "outputs": [],
   "source": []
  },
  {
   "cell_type": "code",
   "execution_count": null,
   "metadata": {},
   "outputs": [],
   "source": []
  }
 ],
 "metadata": {
  "kernelspec": {
   "display_name": "DARKTRACE",
   "language": "python",
   "name": "darktrace"
  },
  "language_info": {
   "codemirror_mode": {
    "name": "ipython",
    "version": 3
   },
   "file_extension": ".py",
   "mimetype": "text/x-python",
   "name": "python",
   "nbconvert_exporter": "python",
   "pygments_lexer": "ipython3",
   "version": "3.7.3"
  }
 },
 "nbformat": 4,
 "nbformat_minor": 2
}
